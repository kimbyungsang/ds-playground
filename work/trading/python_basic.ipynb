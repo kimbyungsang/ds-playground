{
 "cells": [
  {
   "cell_type": "code",
   "execution_count": 1,
   "id": "7d7a3a0e-90c7-464e-9b85-ab7512acbfc8",
   "metadata": {},
   "outputs": [],
   "source": [
    "import os"
   ]
  },
  {
   "cell_type": "code",
   "execution_count": 3,
   "id": "ce783636-418c-4247-95ef-ae5be8a6a765",
   "metadata": {},
   "outputs": [
    {
     "data": {
      "text/plain": [
       "'/home/jovyan/work/trading'"
      ]
     },
     "execution_count": 3,
     "metadata": {},
     "output_type": "execute_result"
    }
   ],
   "source": [
    "os.getcwd()"
   ]
  },
  {
   "cell_type": "code",
   "execution_count": 5,
   "id": "d57d3d52-8eb8-45b2-94e6-80a2be82c41b",
   "metadata": {},
   "outputs": [
    {
     "data": {
      "text/plain": [
       "'P'"
      ]
     },
     "execution_count": 5,
     "metadata": {},
     "output_type": "execute_result"
    }
   ],
   "source": [
    "#indexing\n",
    "word =  'Python'\n",
    "word[0]"
   ]
  },
  {
   "cell_type": "code",
   "execution_count": 10,
   "id": "b4793688-efd8-49f9-bd95-75633d874efe",
   "metadata": {},
   "outputs": [
    {
     "data": {
      "text/plain": [
       "'Pyt'"
      ]
     },
     "execution_count": 10,
     "metadata": {},
     "output_type": "execute_result"
    }
   ],
   "source": [
    "word[:3]"
   ]
  },
  {
   "cell_type": "code",
   "execution_count": 11,
   "id": "297c528d-6f7a-4df2-851f-69051338579a",
   "metadata": {},
   "outputs": [
    {
     "data": {
      "text/plain": [
       "256"
      ]
     },
     "execution_count": 11,
     "metadata": {},
     "output_type": "execute_result"
    }
   ],
   "source": [
    "2**8"
   ]
  },
  {
   "cell_type": "code",
   "execution_count": 13,
   "id": "5b84383e-6c86-4038-aa06-4833a81c03d2",
   "metadata": {},
   "outputs": [
    {
     "name": "stdout",
     "output_type": "stream",
     "text": [
      "Exception occured : division by zero\n"
     ]
    }
   ],
   "source": [
    "try:\n",
    "    1/0\n",
    "except Exception as e:\n",
    "    print('Exception occured :', str(e))"
   ]
  },
  {
   "cell_type": "code",
   "execution_count": 14,
   "id": "a280a412-a843-473f-af30-bd49f9d13630",
   "metadata": {},
   "outputs": [],
   "source": [
    "# list\n",
    "ls = ['one', 'two', 'three', 4, 5, 6]"
   ]
  },
  {
   "cell_type": "code",
   "execution_count": 15,
   "id": "987c603f-aebe-476a-a61e-04b0ae6868ae",
   "metadata": {},
   "outputs": [
    {
     "data": {
      "text/plain": [
       "4"
      ]
     },
     "execution_count": 15,
     "metadata": {},
     "output_type": "execute_result"
    }
   ],
   "source": [
    "ls[3]"
   ]
  },
  {
   "cell_type": "code",
   "execution_count": 17,
   "id": "659e079a-eae4-4550-9034-2e6a03592a23",
   "metadata": {},
   "outputs": [
    {
     "data": {
      "text/plain": [
       "str"
      ]
     },
     "execution_count": 17,
     "metadata": {},
     "output_type": "execute_result"
    }
   ],
   "source": [
    "my = 'Thoughts become things.'\n",
    "type(my)"
   ]
  },
  {
   "cell_type": "code",
   "execution_count": 19,
   "id": "ee3af340-8fff-493a-9e99-487bd7a81cbb",
   "metadata": {},
   "outputs": [
    {
     "data": {
      "text/plain": [
       "['Thoughts', 'become', 'things.']"
      ]
     },
     "execution_count": 19,
     "metadata": {},
     "output_type": "execute_result"
    }
   ],
   "source": [
    "myList = my.split()\n",
    "myList"
   ]
  },
  {
   "cell_type": "code",
   "execution_count": 22,
   "id": "e5af87cc-30fc-46af-a299-f61922e2e6c3",
   "metadata": {},
   "outputs": [
    {
     "data": {
      "text/plain": [
       "'Thoughts.become.things.'"
      ]
     },
     "execution_count": 22,
     "metadata": {},
     "output_type": "execute_result"
    }
   ],
   "source": [
    "'.'.join(myList)"
   ]
  },
  {
   "cell_type": "code",
   "execution_count": 27,
   "id": "45fc0985-47ed-4bd5-b8c7-a26c3c7b133f",
   "metadata": {},
   "outputs": [
    {
     "data": {
      "text/plain": [
       "[1, 2, 3, 4, 5]"
      ]
     },
     "execution_count": 27,
     "metadata": {},
     "output_type": "execute_result"
    }
   ],
   "source": [
    "# sort and sorted\n",
    "li = [2, 3, 4, 1, 5]\n",
    "li2 = sorted(li)\n",
    "li2"
   ]
  },
  {
   "cell_type": "code",
   "execution_count": 30,
   "id": "c760c223-b012-4950-9b59-e9c254ebf3eb",
   "metadata": {},
   "outputs": [
    {
     "data": {
      "text/plain": [
       "'2012-01-04'"
      ]
     },
     "execution_count": 30,
     "metadata": {},
     "output_type": "execute_result"
    }
   ],
   "source": [
    "'-'.join('2012/01/04'.split('/'))"
   ]
  },
  {
   "cell_type": "code",
   "execution_count": 33,
   "id": "8446301f-1825-445a-8f2f-623b8798a172",
   "metadata": {},
   "outputs": [
    {
     "data": {
      "text/plain": [
       "int"
      ]
     },
     "execution_count": 33,
     "metadata": {},
     "output_type": "execute_result"
    }
   ],
   "source": [
    "nbr = int(''.join('1,234,567,890'.split(',')))\n",
    "type(nbr)"
   ]
  },
  {
   "cell_type": "code",
   "execution_count": 36,
   "id": "67e28337-0f5a-42fb-9e30-3838684434c6",
   "metadata": {},
   "outputs": [
    {
     "data": {
      "text/plain": [
       "'1,234,567,890'"
      ]
     },
     "execution_count": 36,
     "metadata": {},
     "output_type": "execute_result"
    }
   ],
   "source": [
    "nbr2 = format(1234567890, ',')\n",
    "type(nbr2)\n",
    "nbr2"
   ]
  },
  {
   "cell_type": "code",
   "execution_count": 40,
   "id": "43ec29ba-aa76-4bba-a1ea-c8827752e564",
   "metadata": {},
   "outputs": [
    {
     "data": {
      "text/plain": [
       "['Thoughts', 'become', 'things.']"
      ]
     },
     "execution_count": 40,
     "metadata": {},
     "output_type": "execute_result"
    }
   ],
   "source": [
    "# copy\n",
    "myList = ['Thoughts', 'become', 'things.']\n",
    "newList = myList[:]\n",
    "newList"
   ]
  },
  {
   "cell_type": "code",
   "execution_count": 41,
   "id": "c8479124-4a44-4a2d-ae65-183cfd6243ae",
   "metadata": {},
   "outputs": [
    {
     "data": {
      "text/plain": [
       "['Thoughts', 'become', 'action']"
      ]
     },
     "execution_count": 41,
     "metadata": {},
     "output_type": "execute_result"
    }
   ],
   "source": [
    "newList[-1] = 'action'\n",
    "newList"
   ]
  },
  {
   "cell_type": "code",
   "execution_count": 42,
   "id": "aa313c6a-2f28-43fb-948f-3188fabe1515",
   "metadata": {},
   "outputs": [
    {
     "data": {
      "text/plain": [
       "['Thoughts', 'become', 'things.']"
      ]
     },
     "execution_count": 42,
     "metadata": {},
     "output_type": "execute_result"
    }
   ],
   "source": [
    "myLIst"
   ]
  },
  {
   "cell_type": "code",
   "execution_count": 43,
   "id": "ddb06507-ae47-48c2-8b01-406b45cdf924",
   "metadata": {},
   "outputs": [
    {
     "data": {
      "text/plain": [
       "[1, 4, 9, 16, 25]"
      ]
     },
     "execution_count": 43,
     "metadata": {},
     "output_type": "execute_result"
    }
   ],
   "source": [
    "# comprehension\n",
    "num = [1,2,3,4,5]\n",
    "squares = []\n",
    "for x in num:\n",
    "    squares.append(x ** 2)\n",
    "\n",
    "squares"
   ]
  },
  {
   "cell_type": "code",
   "execution_count": 45,
   "id": "3254feb7-40c8-446a-9bd1-73c653657a94",
   "metadata": {},
   "outputs": [
    {
     "data": {
      "text/plain": [
       "[1, 4, 9, 16, 25]"
      ]
     },
     "execution_count": 45,
     "metadata": {},
     "output_type": "execute_result"
    }
   ],
   "source": [
    "squares2 = [x ** 2 for x in num]\n",
    "squares2"
   ]
  },
  {
   "cell_type": "code",
   "execution_count": 47,
   "id": "84a9432b-3c01-4fff-a4c4-5747074cfa2b",
   "metadata": {},
   "outputs": [
    {
     "data": {
      "text/plain": [
       "[4, 16]"
      ]
     },
     "execution_count": 47,
     "metadata": {},
     "output_type": "execute_result"
    }
   ],
   "source": [
    "even_squares = [x ** 2 for x in num if x % 2 == 0]\n",
    "even_squares"
   ]
  },
  {
   "cell_type": "code",
   "execution_count": 48,
   "id": "a8183b8d-e85e-441b-870b-6aa391c928d1",
   "metadata": {},
   "outputs": [
    {
     "data": {
      "text/plain": [
       "[10, 20, 30]"
      ]
     },
     "execution_count": 48,
     "metadata": {},
     "output_type": "execute_result"
    }
   ],
   "source": [
    "# tuple\n",
    "myTuple = ('a', 'b', 'c', [10, 20, 30], abs, max)\n",
    "myTuple[3]"
   ]
  },
  {
   "cell_type": "code",
   "execution_count": 49,
   "id": "ae3078bd-59ab-4579-9d00-909a17ae292f",
   "metadata": {},
   "outputs": [
    {
     "data": {
      "text/plain": [
       "100"
      ]
     },
     "execution_count": 49,
     "metadata": {},
     "output_type": "execute_result"
    }
   ],
   "source": [
    "myTuple[4](-100)"
   ]
  },
  {
   "cell_type": "code",
   "execution_count": 50,
   "id": "ec0dba87-5124-4a83-8468-4c27e8c38171",
   "metadata": {},
   "outputs": [
    {
     "data": {
      "text/plain": [
       "5"
      ]
     },
     "execution_count": 50,
     "metadata": {},
     "output_type": "execute_result"
    }
   ],
   "source": [
    "myTuple[5](4, 5)"
   ]
  },
  {
   "cell_type": "code",
   "execution_count": 51,
   "id": "ed6b8d27-8a07-45f7-a589-f12ceb1a7951",
   "metadata": {},
   "outputs": [
    {
     "data": {
      "text/plain": [
       "30"
      ]
     },
     "execution_count": 51,
     "metadata": {},
     "output_type": "execute_result"
    }
   ],
   "source": [
    "myTuple[5](myTuple[3])"
   ]
  },
  {
   "cell_type": "code",
   "execution_count": 52,
   "id": "d18cf7de-8151-4ab9-89ae-a8cf7beee006",
   "metadata": {},
   "outputs": [],
   "source": [
    "# dictionary\n",
    "crispr = {'EDIT': 'Editas Medicine', 'NTLA':'INtellia Therapeutics'}"
   ]
  },
  {
   "cell_type": "code",
   "execution_count": 53,
   "id": "b499900a-db77-4a84-826b-a127cf1e1537",
   "metadata": {},
   "outputs": [
    {
     "data": {
      "text/plain": [
       "'Editas Medicine'"
      ]
     },
     "execution_count": 53,
     "metadata": {},
     "output_type": "execute_result"
    }
   ],
   "source": [
    "crispr['EDIT']"
   ]
  },
  {
   "cell_type": "code",
   "execution_count": 54,
   "id": "6a5fbf9a-4ddb-4751-9ba6-1349fba8f348",
   "metadata": {},
   "outputs": [
    {
     "data": {
      "text/plain": [
       "{'EDIT': 'Editas Medicine',\n",
       " 'NTLA': 'INtellia Therapeutics',\n",
       " 'CRSP': 'CRISPR Theraneutics'}"
      ]
     },
     "execution_count": 54,
     "metadata": {},
     "output_type": "execute_result"
    }
   ],
   "source": [
    "crispr['CRSP'] = 'CRISPR Theraneutics'\n",
    "crispr"
   ]
  },
  {
   "cell_type": "code",
   "execution_count": 56,
   "id": "0451079c-f0ae-4d4f-9e9b-b8d2fe428392",
   "metadata": {},
   "outputs": [
    {
     "data": {
      "text/plain": [
       "{'EDIT': 'New editas medicie',\n",
       " 'NTLA': 'INtellia Therapeutics',\n",
       " 'CRSP': 'CRISPR Theraneutics'}"
      ]
     },
     "execution_count": 56,
     "metadata": {},
     "output_type": "execute_result"
    }
   ],
   "source": [
    "crispr['EDIT'] = 'New editas medicie'\n",
    "crispr"
   ]
  },
  {
   "cell_type": "code",
   "execution_count": 59,
   "id": "ecd9eea5-51ef-415a-8fe7-4443756745e1",
   "metadata": {},
   "outputs": [
    {
     "name": "stdout",
     "output_type": "stream",
     "text": [
      "EDIT \t New editas medicie\n",
      "NTLA \t INtellia Therapeutics\n",
      "CRSP \t CRISPR Theraneutics\n"
     ]
    }
   ],
   "source": [
    "for x in crispr:\n",
    "    print('%s \\t %s' % (x, crispr[x]))"
   ]
  },
  {
   "cell_type": "code",
   "execution_count": 61,
   "id": "a563e10c-affc-4241-8016-22db43925e93",
   "metadata": {},
   "outputs": [
    {
     "name": "stdout",
     "output_type": "stream",
     "text": [
      "EDIT \t New editas medicie\n",
      "NTLA \t INtellia Therapeutics\n",
      "CRSP \t CRISPR Theraneutics\n"
     ]
    }
   ],
   "source": [
    "for x in crispr:\n",
    "    print('{} \\t {}'.format(x, crispr[x]))"
   ]
  },
  {
   "cell_type": "code",
   "execution_count": 63,
   "id": "143a8645-a397-40bd-98c4-76a55c0b5a14",
   "metadata": {},
   "outputs": [
    {
     "name": "stdout",
     "output_type": "stream",
     "text": [
      "EDIT \t New editas medicie\n",
      "NTLA \t INtellia Therapeutics\n",
      "CRSP \t CRISPR Theraneutics\n"
     ]
    }
   ],
   "source": [
    "for x in crispr:\n",
    "    print(f'{x} \\t {crispr[x]}')"
   ]
  },
  {
   "cell_type": "code",
   "execution_count": 65,
   "id": "ac4558d6-d835-4928-b7e8-74969195d130",
   "metadata": {},
   "outputs": [
    {
     "data": {
      "text/plain": [
       "{'A', 'E', 'L', 'P'}"
      ]
     },
     "execution_count": 65,
     "metadata": {},
     "output_type": "execute_result"
    }
   ],
   "source": [
    "# Set : 순서도 중복도 없다\n",
    "s = {'A', 'P', 'P', 'L', 'E'}\n",
    "s"
   ]
  },
  {
   "cell_type": "code",
   "execution_count": 68,
   "id": "fc9205ca-0e69-48ac-9bff-eae94ca06f14",
   "metadata": {},
   "outputs": [
    {
     "data": {
      "text/plain": [
       "{1, 2, 3, 4, 5}"
      ]
     },
     "execution_count": 68,
     "metadata": {},
     "output_type": "execute_result"
    }
   ],
   "source": [
    "ls = [1, 3, 4, 2, 2, 3, 1, 5]\n",
    "lsSet = set(ls)\n",
    "lsSet"
   ]
  },
  {
   "cell_type": "code",
   "execution_count": 69,
   "id": "b9beca9d-cf19-4838-9659-187aa5d7151f",
   "metadata": {},
   "outputs": [],
   "source": [
    "# timeit"
   ]
  },
  {
   "cell_type": "code",
   "execution_count": 71,
   "id": "f5e290f2-268c-4476-8806-2b9f30f12876",
   "metadata": {},
   "outputs": [],
   "source": [
    "import timeit"
   ]
  },
  {
   "cell_type": "code",
   "execution_count": 75,
   "id": "c30e0071-ad65-4985-9a78-3abd759a6ea6",
   "metadata": {},
   "outputs": [],
   "source": [
    "iteration_test = \"\"\"\n",
    "for i in itr : \n",
    "    pass\n",
    "\"\"\""
   ]
  },
  {
   "cell_type": "code",
   "execution_count": 76,
   "id": "a74022bd-e7c9-499a-9116-bdcff46917c2",
   "metadata": {},
   "outputs": [
    {
     "data": {
      "text/plain": [
       "0.13414488401031122"
      ]
     },
     "execution_count": 76,
     "metadata": {},
     "output_type": "execute_result"
    }
   ],
   "source": [
    "timeit.timeit(iteration_test, setup='itr = list(range(10000))', number = 1000)"
   ]
  },
  {
   "cell_type": "code",
   "execution_count": 77,
   "id": "79733c8b-61e0-400f-98db-c506e3951947",
   "metadata": {},
   "outputs": [
    {
     "data": {
      "text/plain": [
       "0.16786332201445475"
      ]
     },
     "execution_count": 77,
     "metadata": {},
     "output_type": "execute_result"
    }
   ],
   "source": [
    "timeit.timeit(iteration_test, setup='itr = set(range(10000))', number = 1000)"
   ]
  },
  {
   "cell_type": "code",
   "execution_count": 78,
   "id": "4547263a-2d48-4e70-b17b-0bff28ad721c",
   "metadata": {},
   "outputs": [
    {
     "data": {
      "text/plain": [
       "0.14101103495340794"
      ]
     },
     "execution_count": 78,
     "metadata": {},
     "output_type": "execute_result"
    }
   ],
   "source": [
    "timeit.timeit(iteration_test, setup='itr = tuple(range(10000))', number = 1000)"
   ]
  },
  {
   "cell_type": "code",
   "execution_count": 79,
   "id": "207015a0-2081-42ac-8787-47ec165756a0",
   "metadata": {},
   "outputs": [],
   "source": [
    "def getCAGR(first, last, years):\n",
    "    return (last/first)**(1/years) - 1"
   ]
  },
  {
   "cell_type": "code",
   "execution_count": 80,
   "id": "741257e1-103e-47e9-859c-70a39dbf4022",
   "metadata": {},
   "outputs": [
    {
     "name": "stdout",
     "output_type": "stream",
     "text": [
      "SEC CAGR : 7.29%\n"
     ]
    }
   ],
   "source": [
    "cagr = getCAGR(65300, 266900, 20)\n",
    "print(\"SEC CAGR : {:.2%}\".format(cagr))"
   ]
  },
  {
   "cell_type": "code",
   "execution_count": 81,
   "id": "58d1d81b-50c6-43a2-bf7f-038e1056d7cb",
   "metadata": {},
   "outputs": [],
   "source": [
    "def func():\n",
    "    pass"
   ]
  },
  {
   "cell_type": "code",
   "execution_count": 82,
   "id": "0fc146c0-1d1b-4901-a11d-74fa8e6b1eda",
   "metadata": {},
   "outputs": [
    {
     "name": "stdout",
     "output_type": "stream",
     "text": [
      "None\n"
     ]
    }
   ],
   "source": [
    "print(func())"
   ]
  },
  {
   "cell_type": "code",
   "execution_count": 83,
   "id": "4aa6f372-48e2-4fa4-8a56-71e9916f9957",
   "metadata": {},
   "outputs": [
    {
     "data": {
      "text/plain": [
       "NoneType"
      ]
     },
     "execution_count": 83,
     "metadata": {},
     "output_type": "execute_result"
    }
   ],
   "source": [
    "type(None)"
   ]
  },
  {
   "cell_type": "code",
   "execution_count": 84,
   "id": "d5d76e35-1c52-41fe-bd59-1b7c467a5a12",
   "metadata": {},
   "outputs": [
    {
     "data": {
      "text/plain": [
       "True"
      ]
     },
     "execution_count": 84,
     "metadata": {},
     "output_type": "execute_result"
    }
   ],
   "source": [
    "func() == None"
   ]
  },
  {
   "cell_type": "code",
   "execution_count": 86,
   "id": "30185bb9-c6d4-4804-8be4-2aa49ebf169c",
   "metadata": {},
   "outputs": [
    {
     "data": {
      "text/plain": [
       "True"
      ]
     },
     "execution_count": 86,
     "metadata": {},
     "output_type": "execute_result"
    }
   ],
   "source": [
    "func() is None"
   ]
  },
  {
   "cell_type": "code",
   "execution_count": 87,
   "id": "7550a8cd-cafe-47ec-8e7f-a86429f0e420",
   "metadata": {},
   "outputs": [],
   "source": [
    "def myFunc():\n",
    "    var1 = 'a'\n",
    "    var2 = [1, 2, 3]\n",
    "    var3 = max\n",
    "    return var1, var2, var3"
   ]
  },
  {
   "cell_type": "code",
   "execution_count": 89,
   "id": "3cb34b85-7c07-491d-8ed3-5a3f9f5f2937",
   "metadata": {},
   "outputs": [
    {
     "data": {
      "text/plain": [
       "('a', [1, 2, 3], <function max>)"
      ]
     },
     "execution_count": 89,
     "metadata": {},
     "output_type": "execute_result"
    }
   ],
   "source": [
    "myFunc()"
   ]
  },
  {
   "cell_type": "code",
   "execution_count": 90,
   "id": "027a684e-01c2-4ee0-9fce-0c54756008f4",
   "metadata": {},
   "outputs": [
    {
     "data": {
      "text/plain": [
       "'a'"
      ]
     },
     "execution_count": 90,
     "metadata": {},
     "output_type": "execute_result"
    }
   ],
   "source": [
    "s, l, f = myFunc()\n",
    "s"
   ]
  },
  {
   "cell_type": "code",
   "execution_count": 91,
   "id": "ed258e83-4d9c-4f94-a1da-184117317ff2",
   "metadata": {},
   "outputs": [
    {
     "data": {
      "text/plain": [
       "'1,234,567,890'"
      ]
     },
     "execution_count": 91,
     "metadata": {},
     "output_type": "execute_result"
    }
   ],
   "source": [
    "# lambda: lambda 인수 : 표현식\n",
    "insertComma = lambda x : format(x, ',')\n",
    "insertComma(1234567890)"
   ]
  },
  {
   "cell_type": "code",
   "execution_count": 93,
   "id": "2cac50ec-33f6-4732-824b-4eb035e2b0c3",
   "metadata": {
    "collapsed": true,
    "jupyter": {
     "outputs_hidden": true
    },
    "tags": []
   },
   "outputs": [
    {
     "name": "stdout",
     "output_type": "stream",
     "text": [
      "\n",
      "Please wait a moment while I gather a list of all available modules...\n",
      "\n"
     ]
    },
    {
     "name": "stderr",
     "output_type": "stream",
     "text": [
      "/opt/conda/lib/python3.10/site-packages/llvmlite/llvmpy/__init__.py:3: UserWarning: The module `llvmlite.llvmpy` is deprecated and will be removed in the future.\n",
      "  warnings.warn(\n",
      "/opt/conda/lib/python3.10/pkgutil.py:92: UserWarning: The numpy.array_api submodule is still experimental. See NEP 47.\n",
      "  __import__(info.name)\n",
      "/opt/conda/lib/python3.10/site-packages/_distutils_hack/__init__.py:33: UserWarning: Setuptools is replacing distutils.\n",
      "  warnings.warn(\"Setuptools is replacing distutils.\")\n",
      "/opt/conda/lib/python3.10/pkgutil.py:92: UserWarning: viewer requires Qt\n",
      "  __import__(info.name)\n"
     ]
    },
    {
     "name": "stdout",
     "output_type": "stream",
     "text": [
      "Cython              binhex              json5               resource\n",
      "IPython             bisect              jsonschema          rlcompleter\n",
      "OpenSSL             bleach              jupyter             rpy2\n",
      "PIL                 blinker             jupyter_client      ruamel_yaml\n",
      "__future__          bokeh               jupyter_core        runpy\n",
      "_abc                bottleneck          jupyter_server      sched\n",
      "_aix_support        brotli              jupyter_telemetry   scipy\n",
      "_argon2_cffi_bindings bs4                 jupyterhub          seaborn\n",
      "_ast                builtins            jupyterlab          secrets\n",
      "_asyncio            bz2                 jupyterlab_pygments select\n",
      "_bisect             cProfile            jupyterlab_server   selectors\n",
      "_blake2             cached_property     jupyterlab_widgets  send2trash\n",
      "_bootsubprocess     calendar            jwt                 setuptools\n",
      "_bz2                certifi             keyword             shelve\n",
      "_cffi_backend       certipy             kiwisolver          shlex\n",
      "_codecs             cffi                lib2to3             shutil\n",
      "_codecs_cn          cgi                 libmambapy          signal\n",
      "_codecs_hk          cgitb               linecache           simplegeneric\n",
      "_codecs_iso2022     charset_normalizer  llvmlite            site\n",
      "_codecs_jp          chunk               locale              six\n",
      "_codecs_kr          click               locket              skimage\n",
      "_codecs_tw          cloudpickle         logging             sklearn\n",
      "_collections        cmath               lxml                smtpd\n",
      "_collections_abc    cmd                 lz4                 smtplib\n",
      "_compat_pickle      code                lzma                sndhdr\n",
      "_compression        codecs              mailbox             sniffio\n",
      "_contextvars        codeop              mailcap             socket\n",
      "_crypt              collections         mako                socketserver\n",
      "_csv                colorama            mamba               socks\n",
      "_ctypes             colorsys            markupsafe          sockshandler\n",
      "_ctypes_test        compileall          marshal             sortedcontainers\n",
      "_curses             concurrent          math                soupsieve\n",
      "_curses_panel       conda               matplotlib          spwd\n",
      "_datetime           conda_env           matplotlib_inline   sqlalchemy\n",
      "_decimal            conda_package_handling mimetypes           sqlite3\n",
      "_distutils_hack     configparser        mistune             sre_compile\n",
      "_elementtree        contextlib          mmap                sre_constants\n",
      "_functools          contextvars         modulefinder        sre_parse\n",
      "_hashlib            contourpy           mpmath              ssl\n",
      "_heapq              copy                msgpack             stack_data\n",
      "_imp                copyreg             multiprocessing     stat\n",
      "_io                 crypt               multitasking        statistics\n",
      "_json               cryptography        munkres             statsmodels\n",
      "_locale             csv                 nbclassic           string\n",
      "_lsprof             ctypes              nbclient            stringprep\n",
      "_lzma               curl                nbconvert           struct\n",
      "_markupbase         curses              nbformat            subprocess\n",
      "_md5                cycler              nest_asyncio        sunau\n",
      "_multibytecodec     cython              netrc               sympy\n",
      "_multiprocessing    cytoolz             networkx            symtable\n",
      "_opcode             dask                nis                 sys\n",
      "_operator           dataclasses         nntplib             sysconfig\n",
      "_osx_support        datetime            notebook            syslog\n",
      "_pickle             dateutil            notebook_shim       tables\n",
      "_posixshmem         dbm                 ntpath              tabnanny\n",
      "_posixsubprocess    debugpy             nturl2path          tarfile\n",
      "_py_abc             decimal             numba               tblib\n",
      "_pydecimal          decorator           numbers             telnetlib\n",
      "_pyio               defusedxml          numexpr             tempfile\n",
      "_pyrsistent_version difflib             numpy               terminado\n",
      "_queue              dill                oauthlib            termios\n",
      "_random             dis                 opcode              test\n",
      "_rinterface_cffi_abi distributed         openpyxl            test_pycosat\n",
      "_rinterface_cffi_api distutils           operator            textwrap\n",
      "_ruamel_yaml        doctest             optparse            this\n",
      "_sha1               email               os                  threading\n",
      "_sha256             encodings           ossaudiodev         threadpoolctl\n",
      "_sha3               ensurepip           packaging           tifffile\n",
      "_sha512             entrypoints         pamela              time\n",
      "_signal             enum                pandas              timeit\n",
      "_sitebuiltins       errno               pandas_datareader   tinycss2\n",
      "_socket             et_xmlfile          pandocfilters       tkinter\n",
      "_sqlite3            executing           parso               tlz\n",
      "_sre                fastjsonschema      partd               token\n",
      "_ssl                faulthandler        pathlib             tokenize\n",
      "_stat               fcntl               patsy               tomli\n",
      "_statistics         filecmp             pdb                 toolz\n",
      "_string             fileinput           pexpect             tornado\n",
      "_strptime           flit_core           pickle              tqdm\n",
      "_struct             fnmatch             pickleshare         trace\n",
      "_symtable           fontTools           pickletools         traceback\n",
      "_sysconfigdata__linux_x86_64-linux-gnu fractions           pip                 tracemalloc\n",
      "_sysconfigdata_x86_64_conda_cos6_linux_gnu fsspec              pipes               traitlets\n",
      "_sysconfigdata_x86_64_conda_linux_gnu ftplib              pkg_resources       tty\n",
      "_testbuffer         functools           pkgutil             turtle\n",
      "_testcapi           gc                  pkgutil_resolve_name turtledemo\n",
      "_testimportmultiple genericpath         platform            types\n",
      "_testinternalcapi   getopt              platformdirs        typing\n",
      "_testmultiphase     getpass             plistlib            typing_extensions\n",
      "_thread             gettext             poplib              tzdata\n",
      "_threading_local    glob                posix               tzlocal\n",
      "_tkinter            gmpy2               posixpath           unicodedata\n",
      "_tracemalloc        graphlib            pprint              unicodedata2\n",
      "_uuid               greenlet            profile             unittest\n",
      "_warnings           grp                 prometheus_client   urllib\n",
      "_weakref            gzip                prompt_toolkit      urllib3\n",
      "_weakrefset         h5py                pstats              uu\n",
      "_xxsubinterpreters  hashlib             psutil              uuid\n",
      "_xxtestfuzz         heapdict            pty                 venv\n",
      "_yaml               heapq               ptyprocess          warnings\n",
      "_zoneinfo           hmac                pure_eval           wave\n",
      "abc                 html                pvectorc            wcwidth\n",
      "aifc                http                pwd                 weakref\n",
      "alembic             idlelib             py_compile          webbrowser\n",
      "altair              idna                pyclbr              webencodings\n",
      "antigravity         imagecodecs         pycosat             websocket\n",
      "anyio               imageio             pycparser           wheel\n",
      "appdirs             imaplib             pycurl              widgetsnbextension\n",
      "argon2              imghdr              pydoc               wsgiref\n",
      "argparse            imp                 pydoc_data          xdrlib\n",
      "array               importlib           pyexpat             xlrd\n",
      "ast                 importlib_metadata  pygments            xml\n",
      "asttokens           importlib_resources pylab               xmlrpc\n",
      "async_generator     inspect             pyparsing           xxlimited\n",
      "asynchat            io                  pyrsistent          xxlimited_35\n",
      "asyncio             ipaddress           pythonjsonlogger    xxsubtype\n",
      "asyncore            ipykernel           pytz                xyzservices\n",
      "atexit              ipykernel_launcher  pytz_deprecation_shim yaml\n",
      "attr                ipympl              pywt                yfinance\n",
      "attrs               ipython_genutils    pyximport           zict\n",
      "audioop             ipywidgets          queue               zipapp\n",
      "babel               isympy              quopri              zipfile\n",
      "backcall            itertools           random              zipimport\n",
      "backports           jedi                re                  zipp\n",
      "base64              jinja2              readline            zlib\n",
      "bdb                 joblib              reprlib             zmq\n",
      "binascii            json                requests            zoneinfo\n",
      "\n",
      "Enter any module name to get more help.  Or, type \"modules spam\" to search\n",
      "for modules whose name or summary contain the string \"spam\".\n",
      "\n"
     ]
    },
    {
     "name": "stderr",
     "output_type": "stream",
     "text": [
      "/opt/conda/lib/python3.10/pkgutil.py:107: VisibleDeprecationWarning: zmq.eventloop.minitornado is deprecated in pyzmq 14.0 and will be removed.\n",
      "    Install tornado itself to use zmq with the tornado IOLoop.\n",
      "    \n",
      "  yield from walk_packages(path, info.name+'.', onerror)\n"
     ]
    }
   ],
   "source": [
    "# module and package\n",
    "help('modules')"
   ]
  },
  {
   "cell_type": "code",
   "execution_count": 94,
   "id": "eef44cfd-8839-4939-83f6-4ea182862181",
   "metadata": {
    "collapsed": true,
    "jupyter": {
     "outputs_hidden": true
    },
    "tags": []
   },
   "outputs": [
    {
     "name": "stdout",
     "output_type": "stream",
     "text": [
      "Help on module datetime:\n",
      "\n",
      "NAME\n",
      "    datetime - Fast implementation of the datetime type.\n",
      "\n",
      "MODULE REFERENCE\n",
      "    https://docs.python.org/3.10/library/datetime.html\n",
      "    \n",
      "    The following documentation is automatically generated from the Python\n",
      "    source files.  It may be incomplete, incorrect or include features that\n",
      "    are considered implementation detail and may vary between Python\n",
      "    implementations.  When in doubt, consult the module reference at the\n",
      "    location listed above.\n",
      "\n",
      "CLASSES\n",
      "    builtins.object\n",
      "        date\n",
      "            datetime\n",
      "        time\n",
      "        timedelta\n",
      "        tzinfo\n",
      "            timezone\n",
      "    \n",
      "    class date(builtins.object)\n",
      "     |  date(year, month, day) --> date object\n",
      "     |  \n",
      "     |  Methods defined here:\n",
      "     |  \n",
      "     |  __add__(self, value, /)\n",
      "     |      Return self+value.\n",
      "     |  \n",
      "     |  __eq__(self, value, /)\n",
      "     |      Return self==value.\n",
      "     |  \n",
      "     |  __format__(...)\n",
      "     |      Formats self with strftime.\n",
      "     |  \n",
      "     |  __ge__(self, value, /)\n",
      "     |      Return self>=value.\n",
      "     |  \n",
      "     |  __getattribute__(self, name, /)\n",
      "     |      Return getattr(self, name).\n",
      "     |  \n",
      "     |  __gt__(self, value, /)\n",
      "     |      Return self>value.\n",
      "     |  \n",
      "     |  __hash__(self, /)\n",
      "     |      Return hash(self).\n",
      "     |  \n",
      "     |  __le__(self, value, /)\n",
      "     |      Return self<=value.\n",
      "     |  \n",
      "     |  __lt__(self, value, /)\n",
      "     |      Return self<value.\n",
      "     |  \n",
      "     |  __ne__(self, value, /)\n",
      "     |      Return self!=value.\n",
      "     |  \n",
      "     |  __radd__(self, value, /)\n",
      "     |      Return value+self.\n",
      "     |  \n",
      "     |  __reduce__(...)\n",
      "     |      __reduce__() -> (cls, state)\n",
      "     |  \n",
      "     |  __repr__(self, /)\n",
      "     |      Return repr(self).\n",
      "     |  \n",
      "     |  __rsub__(self, value, /)\n",
      "     |      Return value-self.\n",
      "     |  \n",
      "     |  __str__(self, /)\n",
      "     |      Return str(self).\n",
      "     |  \n",
      "     |  __sub__(self, value, /)\n",
      "     |      Return self-value.\n",
      "     |  \n",
      "     |  ctime(...)\n",
      "     |      Return ctime() style string.\n",
      "     |  \n",
      "     |  isocalendar(...)\n",
      "     |      Return a named tuple containing ISO year, week number, and weekday.\n",
      "     |  \n",
      "     |  isoformat(...)\n",
      "     |      Return string in ISO 8601 format, YYYY-MM-DD.\n",
      "     |  \n",
      "     |  isoweekday(...)\n",
      "     |      Return the day of the week represented by the date.\n",
      "     |      Monday == 1 ... Sunday == 7\n",
      "     |  \n",
      "     |  replace(...)\n",
      "     |      Return date with new specified fields.\n",
      "     |  \n",
      "     |  strftime(...)\n",
      "     |      format -> strftime() style string.\n",
      "     |  \n",
      "     |  timetuple(...)\n",
      "     |      Return time tuple, compatible with time.localtime().\n",
      "     |  \n",
      "     |  toordinal(...)\n",
      "     |      Return proleptic Gregorian ordinal.  January 1 of year 1 is day 1.\n",
      "     |  \n",
      "     |  weekday(...)\n",
      "     |      Return the day of the week represented by the date.\n",
      "     |      Monday == 0 ... Sunday == 6\n",
      "     |  \n",
      "     |  ----------------------------------------------------------------------\n",
      "     |  Class methods defined here:\n",
      "     |  \n",
      "     |  fromisocalendar(...) from builtins.type\n",
      "     |      int, int, int -> Construct a date from the ISO year, week number and weekday.\n",
      "     |      \n",
      "     |      This is the inverse of the date.isocalendar() function\n",
      "     |  \n",
      "     |  fromisoformat(...) from builtins.type\n",
      "     |      str -> Construct a date from the output of date.isoformat()\n",
      "     |  \n",
      "     |  fromordinal(...) from builtins.type\n",
      "     |      int -> date corresponding to a proleptic Gregorian ordinal.\n",
      "     |  \n",
      "     |  fromtimestamp(timestamp, /) from builtins.type\n",
      "     |      Create a date from a POSIX timestamp.\n",
      "     |      \n",
      "     |      The timestamp is a number, e.g. created via time.time(), that is interpreted\n",
      "     |      as local time.\n",
      "     |  \n",
      "     |  today(...) from builtins.type\n",
      "     |      Current date or datetime:  same as self.__class__.fromtimestamp(time.time()).\n",
      "     |  \n",
      "     |  ----------------------------------------------------------------------\n",
      "     |  Static methods defined here:\n",
      "     |  \n",
      "     |  __new__(*args, **kwargs) from builtins.type\n",
      "     |      Create and return a new object.  See help(type) for accurate signature.\n",
      "     |  \n",
      "     |  ----------------------------------------------------------------------\n",
      "     |  Data descriptors defined here:\n",
      "     |  \n",
      "     |  day\n",
      "     |  \n",
      "     |  month\n",
      "     |  \n",
      "     |  year\n",
      "     |  \n",
      "     |  ----------------------------------------------------------------------\n",
      "     |  Data and other attributes defined here:\n",
      "     |  \n",
      "     |  max = datetime.date(9999, 12, 31)\n",
      "     |  \n",
      "     |  min = datetime.date(1, 1, 1)\n",
      "     |  \n",
      "     |  resolution = datetime.timedelta(days=1)\n",
      "    \n",
      "    class datetime(date)\n",
      "     |  datetime(year, month, day[, hour[, minute[, second[, microsecond[,tzinfo]]]]])\n",
      "     |  \n",
      "     |  The year, month and day arguments are required. tzinfo may be None, or an\n",
      "     |  instance of a tzinfo subclass. The remaining arguments may be ints.\n",
      "     |  \n",
      "     |  Method resolution order:\n",
      "     |      datetime\n",
      "     |      date\n",
      "     |      builtins.object\n",
      "     |  \n",
      "     |  Methods defined here:\n",
      "     |  \n",
      "     |  __add__(self, value, /)\n",
      "     |      Return self+value.\n",
      "     |  \n",
      "     |  __eq__(self, value, /)\n",
      "     |      Return self==value.\n",
      "     |  \n",
      "     |  __ge__(self, value, /)\n",
      "     |      Return self>=value.\n",
      "     |  \n",
      "     |  __getattribute__(self, name, /)\n",
      "     |      Return getattr(self, name).\n",
      "     |  \n",
      "     |  __gt__(self, value, /)\n",
      "     |      Return self>value.\n",
      "     |  \n",
      "     |  __hash__(self, /)\n",
      "     |      Return hash(self).\n",
      "     |  \n",
      "     |  __le__(self, value, /)\n",
      "     |      Return self<=value.\n",
      "     |  \n",
      "     |  __lt__(self, value, /)\n",
      "     |      Return self<value.\n",
      "     |  \n",
      "     |  __ne__(self, value, /)\n",
      "     |      Return self!=value.\n",
      "     |  \n",
      "     |  __radd__(self, value, /)\n",
      "     |      Return value+self.\n",
      "     |  \n",
      "     |  __reduce__(...)\n",
      "     |      __reduce__() -> (cls, state)\n",
      "     |  \n",
      "     |  __reduce_ex__(...)\n",
      "     |      __reduce_ex__(proto) -> (cls, state)\n",
      "     |  \n",
      "     |  __repr__(self, /)\n",
      "     |      Return repr(self).\n",
      "     |  \n",
      "     |  __rsub__(self, value, /)\n",
      "     |      Return value-self.\n",
      "     |  \n",
      "     |  __str__(self, /)\n",
      "     |      Return str(self).\n",
      "     |  \n",
      "     |  __sub__(self, value, /)\n",
      "     |      Return self-value.\n",
      "     |  \n",
      "     |  astimezone(...)\n",
      "     |      tz -> convert to local time in new timezone tz\n",
      "     |  \n",
      "     |  ctime(...)\n",
      "     |      Return ctime() style string.\n",
      "     |  \n",
      "     |  date(...)\n",
      "     |      Return date object with same year, month and day.\n",
      "     |  \n",
      "     |  dst(...)\n",
      "     |      Return self.tzinfo.dst(self).\n",
      "     |  \n",
      "     |  isoformat(...)\n",
      "     |      [sep] -> string in ISO 8601 format, YYYY-MM-DDT[HH[:MM[:SS[.mmm[uuu]]]]][+HH:MM].\n",
      "     |      sep is used to separate the year from the time, and defaults to 'T'.\n",
      "     |      The optional argument timespec specifies the number of additional terms\n",
      "     |      of the time to include. Valid options are 'auto', 'hours', 'minutes',\n",
      "     |      'seconds', 'milliseconds' and 'microseconds'.\n",
      "     |  \n",
      "     |  replace(...)\n",
      "     |      Return datetime with new specified fields.\n",
      "     |  \n",
      "     |  time(...)\n",
      "     |      Return time object with same time but with tzinfo=None.\n",
      "     |  \n",
      "     |  timestamp(...)\n",
      "     |      Return POSIX timestamp as float.\n",
      "     |  \n",
      "     |  timetuple(...)\n",
      "     |      Return time tuple, compatible with time.localtime().\n",
      "     |  \n",
      "     |  timetz(...)\n",
      "     |      Return time object with same time and tzinfo.\n",
      "     |  \n",
      "     |  tzname(...)\n",
      "     |      Return self.tzinfo.tzname(self).\n",
      "     |  \n",
      "     |  utcoffset(...)\n",
      "     |      Return self.tzinfo.utcoffset(self).\n",
      "     |  \n",
      "     |  utctimetuple(...)\n",
      "     |      Return UTC time tuple, compatible with time.localtime().\n",
      "     |  \n",
      "     |  ----------------------------------------------------------------------\n",
      "     |  Class methods defined here:\n",
      "     |  \n",
      "     |  combine(...) from builtins.type\n",
      "     |      date, time -> datetime with same date and time fields\n",
      "     |  \n",
      "     |  fromisoformat(...) from builtins.type\n",
      "     |      string -> datetime from datetime.isoformat() output\n",
      "     |  \n",
      "     |  fromtimestamp(...) from builtins.type\n",
      "     |      timestamp[, tz] -> tz's local time from POSIX timestamp.\n",
      "     |  \n",
      "     |  now(tz=None) from builtins.type\n",
      "     |      Returns new datetime object representing current time local to tz.\n",
      "     |      \n",
      "     |        tz\n",
      "     |          Timezone object.\n",
      "     |      \n",
      "     |      If no tz is specified, uses local timezone.\n",
      "     |  \n",
      "     |  strptime(...) from builtins.type\n",
      "     |      string, format -> new datetime parsed from a string (like time.strptime()).\n",
      "     |  \n",
      "     |  utcfromtimestamp(...) from builtins.type\n",
      "     |      Construct a naive UTC datetime from a POSIX timestamp.\n",
      "     |  \n",
      "     |  utcnow(...) from builtins.type\n",
      "     |      Return a new datetime representing UTC day and time.\n",
      "     |  \n",
      "     |  ----------------------------------------------------------------------\n",
      "     |  Static methods defined here:\n",
      "     |  \n",
      "     |  __new__(*args, **kwargs) from builtins.type\n",
      "     |      Create and return a new object.  See help(type) for accurate signature.\n",
      "     |  \n",
      "     |  ----------------------------------------------------------------------\n",
      "     |  Data descriptors defined here:\n",
      "     |  \n",
      "     |  fold\n",
      "     |  \n",
      "     |  hour\n",
      "     |  \n",
      "     |  microsecond\n",
      "     |  \n",
      "     |  minute\n",
      "     |  \n",
      "     |  second\n",
      "     |  \n",
      "     |  tzinfo\n",
      "     |  \n",
      "     |  ----------------------------------------------------------------------\n",
      "     |  Data and other attributes defined here:\n",
      "     |  \n",
      "     |  max = datetime.datetime(9999, 12, 31, 23, 59, 59, 999999)\n",
      "     |  \n",
      "     |  min = datetime.datetime(1, 1, 1, 0, 0)\n",
      "     |  \n",
      "     |  resolution = datetime.timedelta(microseconds=1)\n",
      "     |  \n",
      "     |  ----------------------------------------------------------------------\n",
      "     |  Methods inherited from date:\n",
      "     |  \n",
      "     |  __format__(...)\n",
      "     |      Formats self with strftime.\n",
      "     |  \n",
      "     |  isocalendar(...)\n",
      "     |      Return a named tuple containing ISO year, week number, and weekday.\n",
      "     |  \n",
      "     |  isoweekday(...)\n",
      "     |      Return the day of the week represented by the date.\n",
      "     |      Monday == 1 ... Sunday == 7\n",
      "     |  \n",
      "     |  strftime(...)\n",
      "     |      format -> strftime() style string.\n",
      "     |  \n",
      "     |  toordinal(...)\n",
      "     |      Return proleptic Gregorian ordinal.  January 1 of year 1 is day 1.\n",
      "     |  \n",
      "     |  weekday(...)\n",
      "     |      Return the day of the week represented by the date.\n",
      "     |      Monday == 0 ... Sunday == 6\n",
      "     |  \n",
      "     |  ----------------------------------------------------------------------\n",
      "     |  Class methods inherited from date:\n",
      "     |  \n",
      "     |  fromisocalendar(...) from builtins.type\n",
      "     |      int, int, int -> Construct a date from the ISO year, week number and weekday.\n",
      "     |      \n",
      "     |      This is the inverse of the date.isocalendar() function\n",
      "     |  \n",
      "     |  fromordinal(...) from builtins.type\n",
      "     |      int -> date corresponding to a proleptic Gregorian ordinal.\n",
      "     |  \n",
      "     |  today(...) from builtins.type\n",
      "     |      Current date or datetime:  same as self.__class__.fromtimestamp(time.time()).\n",
      "     |  \n",
      "     |  ----------------------------------------------------------------------\n",
      "     |  Data descriptors inherited from date:\n",
      "     |  \n",
      "     |  day\n",
      "     |  \n",
      "     |  month\n",
      "     |  \n",
      "     |  year\n",
      "    \n",
      "    class time(builtins.object)\n",
      "     |  time([hour[, minute[, second[, microsecond[, tzinfo]]]]]) --> a time object\n",
      "     |  \n",
      "     |  All arguments are optional. tzinfo may be None, or an instance of\n",
      "     |  a tzinfo subclass. The remaining arguments may be ints.\n",
      "     |  \n",
      "     |  Methods defined here:\n",
      "     |  \n",
      "     |  __eq__(self, value, /)\n",
      "     |      Return self==value.\n",
      "     |  \n",
      "     |  __format__(...)\n",
      "     |      Formats self with strftime.\n",
      "     |  \n",
      "     |  __ge__(self, value, /)\n",
      "     |      Return self>=value.\n",
      "     |  \n",
      "     |  __getattribute__(self, name, /)\n",
      "     |      Return getattr(self, name).\n",
      "     |  \n",
      "     |  __gt__(self, value, /)\n",
      "     |      Return self>value.\n",
      "     |  \n",
      "     |  __hash__(self, /)\n",
      "     |      Return hash(self).\n",
      "     |  \n",
      "     |  __le__(self, value, /)\n",
      "     |      Return self<=value.\n",
      "     |  \n",
      "     |  __lt__(self, value, /)\n",
      "     |      Return self<value.\n",
      "     |  \n",
      "     |  __ne__(self, value, /)\n",
      "     |      Return self!=value.\n",
      "     |  \n",
      "     |  __reduce__(...)\n",
      "     |      __reduce__() -> (cls, state)\n",
      "     |  \n",
      "     |  __reduce_ex__(...)\n",
      "     |      __reduce_ex__(proto) -> (cls, state)\n",
      "     |  \n",
      "     |  __repr__(self, /)\n",
      "     |      Return repr(self).\n",
      "     |  \n",
      "     |  __str__(self, /)\n",
      "     |      Return str(self).\n",
      "     |  \n",
      "     |  dst(...)\n",
      "     |      Return self.tzinfo.dst(self).\n",
      "     |  \n",
      "     |  isoformat(...)\n",
      "     |      Return string in ISO 8601 format, [HH[:MM[:SS[.mmm[uuu]]]]][+HH:MM].\n",
      "     |      \n",
      "     |      The optional argument timespec specifies the number of additional terms\n",
      "     |      of the time to include. Valid options are 'auto', 'hours', 'minutes',\n",
      "     |      'seconds', 'milliseconds' and 'microseconds'.\n",
      "     |  \n",
      "     |  replace(...)\n",
      "     |      Return time with new specified fields.\n",
      "     |  \n",
      "     |  strftime(...)\n",
      "     |      format -> strftime() style string.\n",
      "     |  \n",
      "     |  tzname(...)\n",
      "     |      Return self.tzinfo.tzname(self).\n",
      "     |  \n",
      "     |  utcoffset(...)\n",
      "     |      Return self.tzinfo.utcoffset(self).\n",
      "     |  \n",
      "     |  ----------------------------------------------------------------------\n",
      "     |  Class methods defined here:\n",
      "     |  \n",
      "     |  fromisoformat(...) from builtins.type\n",
      "     |      string -> time from time.isoformat() output\n",
      "     |  \n",
      "     |  ----------------------------------------------------------------------\n",
      "     |  Static methods defined here:\n",
      "     |  \n",
      "     |  __new__(*args, **kwargs) from builtins.type\n",
      "     |      Create and return a new object.  See help(type) for accurate signature.\n",
      "     |  \n",
      "     |  ----------------------------------------------------------------------\n",
      "     |  Data descriptors defined here:\n",
      "     |  \n",
      "     |  fold\n",
      "     |  \n",
      "     |  hour\n",
      "     |  \n",
      "     |  microsecond\n",
      "     |  \n",
      "     |  minute\n",
      "     |  \n",
      "     |  second\n",
      "     |  \n",
      "     |  tzinfo\n",
      "     |  \n",
      "     |  ----------------------------------------------------------------------\n",
      "     |  Data and other attributes defined here:\n",
      "     |  \n",
      "     |  max = datetime.time(23, 59, 59, 999999)\n",
      "     |  \n",
      "     |  min = datetime.time(0, 0)\n",
      "     |  \n",
      "     |  resolution = datetime.timedelta(microseconds=1)\n",
      "    \n",
      "    class timedelta(builtins.object)\n",
      "     |  Difference between two datetime values.\n",
      "     |  \n",
      "     |  timedelta(days=0, seconds=0, microseconds=0, milliseconds=0, minutes=0, hours=0, weeks=0)\n",
      "     |  \n",
      "     |  All arguments are optional and default to 0.\n",
      "     |  Arguments may be integers or floats, and may be positive or negative.\n",
      "     |  \n",
      "     |  Methods defined here:\n",
      "     |  \n",
      "     |  __abs__(self, /)\n",
      "     |      abs(self)\n",
      "     |  \n",
      "     |  __add__(self, value, /)\n",
      "     |      Return self+value.\n",
      "     |  \n",
      "     |  __bool__(self, /)\n",
      "     |      True if self else False\n",
      "     |  \n",
      "     |  __divmod__(self, value, /)\n",
      "     |      Return divmod(self, value).\n",
      "     |  \n",
      "     |  __eq__(self, value, /)\n",
      "     |      Return self==value.\n",
      "     |  \n",
      "     |  __floordiv__(self, value, /)\n",
      "     |      Return self//value.\n",
      "     |  \n",
      "     |  __ge__(self, value, /)\n",
      "     |      Return self>=value.\n",
      "     |  \n",
      "     |  __getattribute__(self, name, /)\n",
      "     |      Return getattr(self, name).\n",
      "     |  \n",
      "     |  __gt__(self, value, /)\n",
      "     |      Return self>value.\n",
      "     |  \n",
      "     |  __hash__(self, /)\n",
      "     |      Return hash(self).\n",
      "     |  \n",
      "     |  __le__(self, value, /)\n",
      "     |      Return self<=value.\n",
      "     |  \n",
      "     |  __lt__(self, value, /)\n",
      "     |      Return self<value.\n",
      "     |  \n",
      "     |  __mod__(self, value, /)\n",
      "     |      Return self%value.\n",
      "     |  \n",
      "     |  __mul__(self, value, /)\n",
      "     |      Return self*value.\n",
      "     |  \n",
      "     |  __ne__(self, value, /)\n",
      "     |      Return self!=value.\n",
      "     |  \n",
      "     |  __neg__(self, /)\n",
      "     |      -self\n",
      "     |  \n",
      "     |  __pos__(self, /)\n",
      "     |      +self\n",
      "     |  \n",
      "     |  __radd__(self, value, /)\n",
      "     |      Return value+self.\n",
      "     |  \n",
      "     |  __rdivmod__(self, value, /)\n",
      "     |      Return divmod(value, self).\n",
      "     |  \n",
      "     |  __reduce__(...)\n",
      "     |      __reduce__() -> (cls, state)\n",
      "     |  \n",
      "     |  __repr__(self, /)\n",
      "     |      Return repr(self).\n",
      "     |  \n",
      "     |  __rfloordiv__(self, value, /)\n",
      "     |      Return value//self.\n",
      "     |  \n",
      "     |  __rmod__(self, value, /)\n",
      "     |      Return value%self.\n",
      "     |  \n",
      "     |  __rmul__(self, value, /)\n",
      "     |      Return value*self.\n",
      "     |  \n",
      "     |  __rsub__(self, value, /)\n",
      "     |      Return value-self.\n",
      "     |  \n",
      "     |  __rtruediv__(self, value, /)\n",
      "     |      Return value/self.\n",
      "     |  \n",
      "     |  __str__(self, /)\n",
      "     |      Return str(self).\n",
      "     |  \n",
      "     |  __sub__(self, value, /)\n",
      "     |      Return self-value.\n",
      "     |  \n",
      "     |  __truediv__(self, value, /)\n",
      "     |      Return self/value.\n",
      "     |  \n",
      "     |  total_seconds(...)\n",
      "     |      Total seconds in the duration.\n",
      "     |  \n",
      "     |  ----------------------------------------------------------------------\n",
      "     |  Static methods defined here:\n",
      "     |  \n",
      "     |  __new__(*args, **kwargs) from builtins.type\n",
      "     |      Create and return a new object.  See help(type) for accurate signature.\n",
      "     |  \n",
      "     |  ----------------------------------------------------------------------\n",
      "     |  Data descriptors defined here:\n",
      "     |  \n",
      "     |  days\n",
      "     |      Number of days.\n",
      "     |  \n",
      "     |  microseconds\n",
      "     |      Number of microseconds (>= 0 and less than 1 second).\n",
      "     |  \n",
      "     |  seconds\n",
      "     |      Number of seconds (>= 0 and less than 1 day).\n",
      "     |  \n",
      "     |  ----------------------------------------------------------------------\n",
      "     |  Data and other attributes defined here:\n",
      "     |  \n",
      "     |  max = datetime.timedelta(days=999999999, seconds=86399, microseconds=9...\n",
      "     |  \n",
      "     |  min = datetime.timedelta(days=-999999999)\n",
      "     |  \n",
      "     |  resolution = datetime.timedelta(microseconds=1)\n",
      "    \n",
      "    class timezone(tzinfo)\n",
      "     |  Fixed offset from UTC implementation of tzinfo.\n",
      "     |  \n",
      "     |  Method resolution order:\n",
      "     |      timezone\n",
      "     |      tzinfo\n",
      "     |      builtins.object\n",
      "     |  \n",
      "     |  Methods defined here:\n",
      "     |  \n",
      "     |  __eq__(self, value, /)\n",
      "     |      Return self==value.\n",
      "     |  \n",
      "     |  __ge__(self, value, /)\n",
      "     |      Return self>=value.\n",
      "     |  \n",
      "     |  __getinitargs__(...)\n",
      "     |      pickle support\n",
      "     |  \n",
      "     |  __gt__(self, value, /)\n",
      "     |      Return self>value.\n",
      "     |  \n",
      "     |  __hash__(self, /)\n",
      "     |      Return hash(self).\n",
      "     |  \n",
      "     |  __le__(self, value, /)\n",
      "     |      Return self<=value.\n",
      "     |  \n",
      "     |  __lt__(self, value, /)\n",
      "     |      Return self<value.\n",
      "     |  \n",
      "     |  __ne__(self, value, /)\n",
      "     |      Return self!=value.\n",
      "     |  \n",
      "     |  __repr__(self, /)\n",
      "     |      Return repr(self).\n",
      "     |  \n",
      "     |  __str__(self, /)\n",
      "     |      Return str(self).\n",
      "     |  \n",
      "     |  dst(...)\n",
      "     |      Return None.\n",
      "     |  \n",
      "     |  fromutc(...)\n",
      "     |      datetime in UTC -> datetime in local time.\n",
      "     |  \n",
      "     |  tzname(...)\n",
      "     |      If name is specified when timezone is created, returns the name.  Otherwise returns offset as 'UTC(+|-)HH:MM'.\n",
      "     |  \n",
      "     |  utcoffset(...)\n",
      "     |      Return fixed offset.\n",
      "     |  \n",
      "     |  ----------------------------------------------------------------------\n",
      "     |  Static methods defined here:\n",
      "     |  \n",
      "     |  __new__(*args, **kwargs) from builtins.type\n",
      "     |      Create and return a new object.  See help(type) for accurate signature.\n",
      "     |  \n",
      "     |  ----------------------------------------------------------------------\n",
      "     |  Data and other attributes defined here:\n",
      "     |  \n",
      "     |  max = datetime.timezone(datetime.timedelta(seconds=86340))\n",
      "     |  \n",
      "     |  min = datetime.timezone(datetime.timedelta(days=-1, seconds=60))\n",
      "     |  \n",
      "     |  utc = datetime.timezone.utc\n",
      "     |  \n",
      "     |  ----------------------------------------------------------------------\n",
      "     |  Methods inherited from tzinfo:\n",
      "     |  \n",
      "     |  __getattribute__(self, name, /)\n",
      "     |      Return getattr(self, name).\n",
      "     |  \n",
      "     |  __reduce__(...)\n",
      "     |      -> (cls, state)\n",
      "    \n",
      "    class tzinfo(builtins.object)\n",
      "     |  Abstract base class for time zone info objects.\n",
      "     |  \n",
      "     |  Methods defined here:\n",
      "     |  \n",
      "     |  __getattribute__(self, name, /)\n",
      "     |      Return getattr(self, name).\n",
      "     |  \n",
      "     |  __reduce__(...)\n",
      "     |      -> (cls, state)\n",
      "     |  \n",
      "     |  dst(...)\n",
      "     |      datetime -> DST offset as timedelta positive east of UTC.\n",
      "     |  \n",
      "     |  fromutc(...)\n",
      "     |      datetime in UTC -> datetime in local time.\n",
      "     |  \n",
      "     |  tzname(...)\n",
      "     |      datetime -> string name of time zone.\n",
      "     |  \n",
      "     |  utcoffset(...)\n",
      "     |      datetime -> timedelta showing offset from UTC, negative values indicating West of UTC\n",
      "     |  \n",
      "     |  ----------------------------------------------------------------------\n",
      "     |  Static methods defined here:\n",
      "     |  \n",
      "     |  __new__(*args, **kwargs) from builtins.type\n",
      "     |      Create and return a new object.  See help(type) for accurate signature.\n",
      "\n",
      "DATA\n",
      "    MAXYEAR = 9999\n",
      "    MINYEAR = 1\n",
      "    __all__ = ('date', 'datetime', 'time', 'timedelta', 'timezone', 'tzinf...\n",
      "\n",
      "FILE\n",
      "    /opt/conda/lib/python3.10/datetime.py\n",
      "\n",
      "\n"
     ]
    }
   ],
   "source": [
    "help('datetime')"
   ]
  },
  {
   "cell_type": "code",
   "execution_count": 95,
   "id": "18dfc409-4931-4d21-a03a-b2f5900d0f9a",
   "metadata": {},
   "outputs": [
    {
     "data": {
      "text/plain": [
       "['False',\n",
       " 'None',\n",
       " 'True',\n",
       " 'and',\n",
       " 'as',\n",
       " 'assert',\n",
       " 'async',\n",
       " 'await',\n",
       " 'break',\n",
       " 'class',\n",
       " 'continue',\n",
       " 'def',\n",
       " 'del',\n",
       " 'elif',\n",
       " 'else',\n",
       " 'except',\n",
       " 'finally',\n",
       " 'for',\n",
       " 'from',\n",
       " 'global',\n",
       " 'if',\n",
       " 'import',\n",
       " 'in',\n",
       " 'is',\n",
       " 'lambda',\n",
       " 'nonlocal',\n",
       " 'not',\n",
       " 'or',\n",
       " 'pass',\n",
       " 'raise',\n",
       " 'return',\n",
       " 'try',\n",
       " 'while',\n",
       " 'with',\n",
       " 'yield']"
      ]
     },
     "execution_count": 95,
     "metadata": {},
     "output_type": "execute_result"
    }
   ],
   "source": [
    "import keyword\n",
    "keyword.kwlist"
   ]
  },
  {
   "cell_type": "code",
   "execution_count": 96,
   "id": "d6a94df4-0fad-4b01-ba74-54c7c097d9ae",
   "metadata": {},
   "outputs": [
    {
     "data": {
      "text/plain": [
       "'/opt/conda/lib/python3.10/keyword.py'"
      ]
     },
     "execution_count": 96,
     "metadata": {},
     "output_type": "execute_result"
    }
   ],
   "source": [
    "keyword.__file__"
   ]
  },
  {
   "cell_type": "code",
   "execution_count": 97,
   "id": "5cec42c8-d116-439b-97e5-5783fb22341e",
   "metadata": {},
   "outputs": [
    {
     "name": "stdout",
     "output_type": "stream",
     "text": [
      "2022-12-06 01:44:59.349282\n"
     ]
    }
   ],
   "source": [
    "# from 모듈명 import 메서드명\n",
    "from datetime import datetime as dt\n",
    "print(dt.now())"
   ]
  },
  {
   "cell_type": "code",
   "execution_count": 98,
   "id": "c3040779-7551-4f02-9f59-3d9f88870d91",
   "metadata": {},
   "outputs": [
    {
     "data": {
      "text/plain": [
       "module"
      ]
     },
     "execution_count": 98,
     "metadata": {},
     "output_type": "execute_result"
    }
   ],
   "source": [
    "#package\n",
    "import urllib.request\n",
    "type(urllib.request)"
   ]
  },
  {
   "cell_type": "code",
   "execution_count": 99,
   "id": "94ff338e-3a9e-490e-88e8-f6607f17be57",
   "metadata": {},
   "outputs": [
    {
     "data": {
      "text/plain": [
       "['/opt/conda/lib/python3.10/urllib']"
      ]
     },
     "execution_count": 99,
     "metadata": {},
     "output_type": "execute_result"
    }
   ],
   "source": [
    "urllib.__path__"
   ]
  },
  {
   "cell_type": "code",
   "execution_count": 101,
   "id": "e97abff1-aa54-4ab8-ada9-318b3132b520",
   "metadata": {},
   "outputs": [
    {
     "data": {
      "text/plain": [
       "'/opt/conda/lib/python3.10/urllib/__init__.py'"
      ]
     },
     "execution_count": 101,
     "metadata": {},
     "output_type": "execute_result"
    }
   ],
   "source": [
    "urllib.__file__"
   ]
  },
  {
   "cell_type": "raw",
   "id": "89a23da9-917f-4feb-8b1f-b163891d7ddd",
   "metadata": {},
   "source": [
    "urllib.__name__"
   ]
  },
  {
   "cell_type": "code",
   "execution_count": 102,
   "id": "fc1a4363-abde-4f10-af01-cd53cd9c55db",
   "metadata": {},
   "outputs": [],
   "source": [
    "def functionB():\n",
    "    print('FUNCTION_B')"
   ]
  },
  {
   "cell_type": "code",
   "execution_count": 103,
   "id": "2ec5b9a7-2484-452e-bdbc-5e380ef3a5ee",
   "metadata": {},
   "outputs": [
    {
     "name": "stdout",
     "output_type": "stream",
     "text": [
      "MODULE_B :  __main__\n"
     ]
    }
   ],
   "source": [
    "print('MODULE_B : ', __name__)"
   ]
  },
  {
   "cell_type": "code",
   "execution_count": 104,
   "id": "d3d1886a-9ac1-4570-9a2f-f1e6660d6ab8",
   "metadata": {},
   "outputs": [
    {
     "data": {
      "text/plain": [
       "'__main__'"
      ]
     },
     "execution_count": 104,
     "metadata": {},
     "output_type": "execute_result"
    }
   ],
   "source": [
    "__name__"
   ]
  },
  {
   "cell_type": "code",
   "execution_count": 154,
   "id": "97600608-540f-4eca-84b0-13bf5123d163",
   "metadata": {},
   "outputs": [],
   "source": [
    "from myPackage import moduleA as ma"
   ]
  },
  {
   "cell_type": "code",
   "execution_count": 155,
   "id": "7e527bc6-fc01-4d6e-9999-cdfdf0c7738b",
   "metadata": {},
   "outputs": [
    {
     "name": "stdout",
     "output_type": "stream",
     "text": [
      "functionA\n"
     ]
    }
   ],
   "source": [
    "ma.functionA()"
   ]
  },
  {
   "cell_type": "code",
   "execution_count": 156,
   "id": "636557f7-59f8-45e0-843d-4665cf386620",
   "metadata": {},
   "outputs": [],
   "source": [
    "import myPackage.moduleA"
   ]
  },
  {
   "cell_type": "code",
   "execution_count": 158,
   "id": "df1298f0-8994-45bc-acd3-f6f8d4f9087d",
   "metadata": {},
   "outputs": [
    {
     "name": "stdout",
     "output_type": "stream",
     "text": [
      "functionA\n"
     ]
    }
   ],
   "source": [
    "myPackage.moduleA.functionA()"
   ]
  },
  {
   "cell_type": "code",
   "execution_count": null,
   "id": "e35acf43-77d5-4ee6-97c2-8e8bfa65fa85",
   "metadata": {},
   "outputs": [],
   "source": []
  }
 ],
 "metadata": {
  "kernelspec": {
   "display_name": "Python 3 (ipykernel)",
   "language": "python",
   "name": "python3"
  },
  "language_info": {
   "codemirror_mode": {
    "name": "ipython",
    "version": 3
   },
   "file_extension": ".py",
   "mimetype": "text/x-python",
   "name": "python",
   "nbconvert_exporter": "python",
   "pygments_lexer": "ipython3",
   "version": "3.10.6"
  }
 },
 "nbformat": 4,
 "nbformat_minor": 5
}
